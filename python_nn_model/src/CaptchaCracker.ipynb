{
 "cells": [
  {
   "cell_type": "code",
   "execution_count": 1,
   "metadata": {},
   "outputs": [
    {
     "name": "stderr",
     "output_type": "stream",
     "text": [
      "/usr/local/lib/python3.5/dist-packages/h5py/__init__.py:36: FutureWarning: Conversion of the second argument of issubdtype from `float` to `np.floating` is deprecated. In future, it will be treated as `np.float64 == np.dtype(float).type`.\n",
      "  from ._conv import register_converters as _register_converters\n"
     ]
    }
   ],
   "source": [
    "import random\n",
    "from captcha.image import ImageCaptcha\n",
    "from PIL import Image\n",
    "import numpy as np\n",
    "import matplotlib.pyplot as plt\n",
    "from claptcha import Claptcha\n",
    "import tensorflow as tf\n",
    "%matplotlib inline\n"
   ]
  },
  {
   "cell_type": "code",
   "execution_count": 2,
   "metadata": {},
   "outputs": [],
   "source": [
    "def random_captcha_text():\n",
    "    number = list(map(lambda x: str(x), list(range(100))))\n",
    "    operator = ['+', '-']\n",
    "    e1 = random.choice(number)\n",
    "    e2 = random.choice(number)\n",
    "    op = random.choice(operator)\n",
    "    captcha_text = [e1, ' ', op, ' ', e2, '=', '?']\n",
    "    return ''.join(captcha_text), (e1, op, e2)"
   ]
  },
  {
   "cell_type": "code",
   "execution_count": 97,
   "metadata": {},
   "outputs": [],
   "source": [
    "import numpy as np\n",
    "import tensorflow as tf\n",
    "import random\n",
    "from PIL import Image, ImageDraw, ImageFont, ImageFilter\n",
    "import os\n",
    "\n",
    "\n",
    "class CaptchaCracker:\n",
    "    def __init__(self, model_path='./model_checkpoint'):\n",
    "        if not os.path.exists(model_path):\n",
    "            os.mkdir(model_path)\n",
    "        self.model_file = model_path + '/captcha_model'\n",
    "        self.Y_DIM = 202\n",
    "        self.NUMBER_COUNT = 100\n",
    "        self.OP_COUNT = 2\n",
    "        self.IMG_HEIGHT = 20\n",
    "        self.IMG_WIDTH = 90\n",
    "        self.learning_rate = 0.001\n",
    "        self.target_acc = 0.95\n",
    "    \n",
    "    def build(self, w_alpha=0.01, b_alpha=0.1):\n",
    "        tf.reset_default_graph()\n",
    "        self.X = tf.placeholder(tf.float32, [None, self.IMG_HEIGHT * self.IMG_WIDTH])\n",
    "        self.Y = tf.placeholder(tf.float32, [None, self.Y_DIM])\n",
    "        self.keep_prob = tf.placeholder(tf.float32)\n",
    "        self.x_input = tf.reshape(self.X, shape=[-1, self.IMG_HEIGHT, self.IMG_WIDTH, 1])\n",
    "        \n",
    "        with tf.variable_scope('cnn'):\n",
    "            self.conv1 = tf.contrib.layers.conv2d(inputs=self.x_input, num_outputs=32, stride=1, kernel_size=3, padding='SAME')\n",
    "            self.maxp1 = tf.contrib.layers.max_pool2d(inputs=self.conv1, kernel_size=2, stride=1, padding='SAME')\n",
    "            self.drop1 = tf.contrib.layers.dropout(inputs=self.maxp1, keep_prob=self.keep_prob)\n",
    "            \n",
    "            self.conv2 = tf.contrib.layers.conv2d(inputs=self.drop1, num_outputs=64, stride=1, kernel_size=3, padding='SAME')\n",
    "            self.maxp2 = tf.contrib.layers.max_pool2d(inputs=self.conv2, kernel_size=2, stride=1, padding='SAME')\n",
    "            self.drop2 = tf.contrib.layers.dropout(inputs=self.maxp2, keep_prob=self.keep_prob)\n",
    "            \n",
    "            self.conv3 = tf.contrib.layers.conv2d(inputs=self.drop2, num_outputs=128, stride=1, kernel_size=3, padding='SAME')\n",
    "            self.maxp3 = tf.contrib.layers.max_pool2d(inputs=self.conv3, kernel_size=2, stride=1, padding='SAME')\n",
    "            self.drop3 = tf.contrib.layers.dropout(inputs=self.maxp3, keep_prob=self.keep_prob)\n",
    "        \n",
    "        with tf.variable_scope('dense'):\n",
    "            self.flatten = tf.contrib.layers.flatten(inputs=self.drop3)\n",
    "            self.dense1 = tf.contrib.layers.fully_connected(inputs=self.flatten, activation_fn=tf.nn.relu, num_outputs=1024)\n",
    "            self.dense_drop1 = tf.contrib.layers.dropout(inputs=self.dense1, keep_prob=self.keep_prob)\n",
    "            \n",
    "            self.dense2 = tf.contrib.layers.fully_connected(inputs=self.dense_drop1, activation_fn=tf.nn.relu, num_outputs=512)\n",
    "            self.dense_drop2 = tf.contrib.layers.dropout(inputs=self.dense2, keep_prob=self.keep_prob)\n",
    "            \n",
    "            self.dense3 = tf.contrib.layers.fully_connected(inputs=self.dense_drop2, activation_fn=tf.nn.relu, num_outputs=self.Y_DIM)\n",
    "            self.output = tf.contrib.layers.dropout(inputs=self.dense3, keep_prob=self.keep_prob)\n",
    "        \n",
    "        with tf.variable_scope('loss'):\n",
    "            self.loss = tf.reduce_mean(tf.nn.sigmoid_cross_entropy_with_logits(logits=self.output, labels=self.Y))\n",
    "        \n",
    "        with tf.variable_scope('train'):\n",
    "            self.optimize = tf.train.AdamOptimizer(learning_rate=self.learning_rate).minimize(self.loss)\n",
    "        with tf.variable_scope('predict'):\n",
    "            self.predict_e1 = tf.argmax(self.output[:, :self.NUMBER_COUNT], 1)\n",
    "            self.predict_e2 = tf.argmax(self.output[:, self.NUMBER_COUNT:self.NUMBER_COUNT * 2], 1)\n",
    "            self.predict_o = tf.argmax(self.output[:, self.NUMBER_COUNT * 2:], 1)\n",
    "            self.true_e1 = tf.argmax(self.Y[:, :self.NUMBER_COUNT], 1)\n",
    "            self.true_e2 = tf.argmax(self.Y[:, self.NUMBER_COUNT:self.NUMBER_COUNT * 2], 1)\n",
    "            self.true_o = tf.argmax(self.Y[:, self.NUMBER_COUNT * 2:], 1)\n",
    "            self.correct_e1 = tf.equal(self.predict_e1, self.true_e1)\n",
    "            self.correct_e2 = tf.equal(self.predict_e2, self.true_e2)\n",
    "            self.correct_o = tf.equal(self.predict_o, self.true_o)\n",
    "            self.accuracy_e1 = tf.reduce_mean(tf.cast(self.correct_e1, tf.float32))\n",
    "            self.accuracy_e2 = tf.reduce_mean(tf.cast(self.correct_e2, tf.float32))\n",
    "            self.accuracy_o = tf.reduce_mean(tf.cast(self.correct_o, tf.float32))\n",
    "            self.accuracy = (self.accuracy_e1 + self.accuracy_e2 + self.accuracy_o) / 3\n",
    "        self.saver = tf.train.Saver()\n",
    "    \n",
    "    @staticmethod\n",
    "    def make_captcha_text(e1, e2, op):\n",
    "        number = list(map(lambda x: str(x), list(range(100))))\n",
    "        operator = ['+', '-']\n",
    "        captcha_text = [number[e1], ' ', operator[op], ' ', number[e2],' ', '=', '?']\n",
    "        return ''.join(captcha_text), (e1, op, e2)\n",
    "    \n",
    "    @staticmethod\n",
    "    def create_specific_validate_code(string, chars, size=(90, 20), mode=\"1\", font_size=18, font_type=\"Cambria.ttf\", draw_points=True, clear=90):\n",
    "        width, height = size\n",
    "        img = Image.new(mode, size)\n",
    "        draw = ImageDraw.Draw(img)\n",
    "        \n",
    "        def create_points():\n",
    "            chance = min(100, max(0, int(clear)))\n",
    "            for w in range(width):\n",
    "                for h in range(height):\n",
    "                    tmp = random.randint(0, 100)\n",
    "                    if tmp > 100 - chance:\n",
    "                        draw.point((w, h), fill=1)\n",
    "        \n",
    "        def create_str():\n",
    "            font = ImageFont.truetype(font_type, font_size)\n",
    "            font_width, font_height = font.getsize(string)\n",
    "            draw.text(((width - font_width) / 4, (height - font_height) / 4),\n",
    "                      string, font=font)\n",
    "        \n",
    "        if draw_points:\n",
    "            create_points()\n",
    "        create_str()\n",
    "        return np.array(img.convert('L')), chars\n",
    "    \n",
    "    @staticmethod\n",
    "    def pre_process(image):\n",
    "        return np.array(image.filter(ImageFilter.SHARPEN).convert('1').filter(ImageFilter.DETAIL).convert('L'))\n",
    "    \n",
    "    @staticmethod\n",
    "    def char2vec(chars, number_count=100, op_count=2):\n",
    "        vec = np.zeros(number_count * 2 + op_count)\n",
    "        vec[chars[0]] = 1\n",
    "        vec[number_count + chars[2]] = 1\n",
    "        vec[number_count * 2 + chars[1]] = 1\n",
    "        return vec\n",
    "    \n",
    "    @staticmethod\n",
    "    def vec2char(vec, number_count=100):\n",
    "        number = list(range(number_count)) + list(range(number_count))\n",
    "        op = ['+', '-']\n",
    "        i1, i2, io = tuple(np.where(vec == 1)[0])\n",
    "        return number[i1], number[i2 - number_count], op[io - number_count * 2]\n",
    "    \n",
    "    def get_big_batch(self, i):\n",
    "        batch_x = np.zeros([self.NUMBER_COUNT * self.OP_COUNT, self.IMG_HEIGHT * self.IMG_WIDTH])\n",
    "        batch_y = np.zeros([self.NUMBER_COUNT * self.OP_COUNT, self.Y_DIM])\n",
    "        count = 0\n",
    "        for j in range(self.NUMBER_COUNT):\n",
    "            for k in range(self.OP_COUNT):\n",
    "                strs, chars = self.make_captcha_text(i, j, k)\n",
    "                image, text = self.create_specific_validate_code(string=strs, chars=chars)\n",
    "                batch_x[count, :] = image.flatten() / 255\n",
    "                batch_y[count, :] = self.char2vec(text)\n",
    "                count += 1\n",
    "        return batch_x, batch_y\n",
    "    \n",
    "    def train(self):\n",
    "        with tf.Session() as sess:\n",
    "            sess.run(tf.global_variables_initializer())\n",
    "            step = 0\n",
    "            while True:\n",
    "                digit_accs = []\n",
    "                for i in range(self.NUMBER_COUNT):\n",
    "                    batch_x, batch_y = self.get_big_batch(i)\n",
    "                    _, acc, acc_e1, acc_e2, acc_o, loss_ = sess.run([self.optimize, self.accuracy, self.accuracy_e1, self.accuracy_e2, self.accuracy_o, self.loss], feed_dict={self.X: batch_x, self.Y: batch_y, self.keep_prob: 0.75})\n",
    "                    print('step: ', step, 'acc: ', acc, 'loss: ', loss_, 'acc_e1: ', acc_e1, 'acc_e2: ', acc_e2, 'acc_o: ', acc_o)\n",
    "                    digit_accs.append(acc)\n",
    "                    step += 1\n",
    "                if np.mean(digit_accs) > self.target_acc:\n",
    "                    self.saver.save(sess, self.model_file)\n",
    "                    break\n",
    "    \n",
    "    def predict(self, x):\n",
    "        with tf.Session() as sess:\n",
    "            self.saver.restore(sess, self.model_file)\n",
    "            pe1, pe2, po = sess.run([self.predict_e1, self.predict_e2, self.predict_o], feed_dict={self.X: x, self.keep_prob: 1.})\n",
    "            return pe1, pe2, po\n",
    "\n",
    "# if __name__ == '__main__':\n",
    "#     model=CaptchaCracker('./model_cpt')\n",
    "#     model.build()\n",
    "#     model.train()"
   ]
  },
  {
   "cell_type": "code",
   "execution_count": 98,
   "metadata": {},
   "outputs": [],
   "source": [
    "model=CaptchaCracker()\n",
    "model.build()\n",
    "# model.train()"
   ]
  },
  {
   "cell_type": "code",
   "execution_count": 99,
   "metadata": {},
   "outputs": [],
   "source": [
    "X,Y=model.get_big_batch(0)"
   ]
  },
  {
   "cell_type": "code",
   "execution_count": 100,
   "metadata": {},
   "outputs": [],
   "source": [
    "strs,chars=model.make_captcha_text(0,25,0)"
   ]
  },
  {
   "cell_type": "code",
   "execution_count": 101,
   "metadata": {},
   "outputs": [],
   "source": [
    "X_0=model.create_specific_validate_code(string=strs,chars=chars)[0]"
   ]
  },
  {
   "cell_type": "code",
   "execution_count": 102,
   "metadata": {},
   "outputs": [
    {
     "data": {
      "text/plain": [
       "array([[255, 255, 255, ..., 255, 255, 255],\n",
       "       [255, 255, 255, ..., 255, 255, 255],\n",
       "       [255, 255, 255, ..., 255, 255, 255],\n",
       "       ...,\n",
       "       [255, 255, 255, ..., 255, 255, 255],\n",
       "       [255, 255, 255, ..., 255, 255, 255],\n",
       "       [255, 255, 255, ..., 255, 255, 255]], dtype=uint8)"
      ]
     },
     "execution_count": 102,
     "metadata": {},
     "output_type": "execute_result"
    }
   ],
   "source": [
    "X_0"
   ]
  },
  {
   "cell_type": "code",
   "execution_count": 103,
   "metadata": {
    "scrolled": true
   },
   "outputs": [
    {
     "data": {
      "image/png": "[encoded data removed]",
      "text/plain": [
       "<PIL.Image.Image image mode=L size=90x20 at 0x7F72A5DEF9B0>"
      ]
     },
     "execution_count": 103,
     "metadata": {},
     "output_type": "execute_result"
    }
   ],
   "source": [
    "Image.fromarray(np.array((X_0.flatten()/255.0).reshape((20,90))*255,dtype=np.uint8),mode='L')"
   ]
  },
  {
   "cell_type": "code",
   "execution_count": 105,
   "metadata": {},
   "outputs": [
    {
     "data": {
      "text/plain": [
       "array([[1., 1., 1., ..., 1., 1., 1.],\n",
       "       [1., 1., 1., ..., 1., 1., 1.],\n",
       "       [1., 1., 1., ..., 1., 1., 1.],\n",
       "       ...,\n",
       "       [1., 1., 1., ..., 1., 1., 1.],\n",
       "       [1., 1., 1., ..., 1., 1., 1.],\n",
       "       [1., 1., 1., ..., 1., 1., 1.]])"
      ]
     },
     "execution_count": 105,
     "metadata": {},
     "output_type": "execute_result"
    }
   ],
   "source": [
    "X_0/255"
   ]
  },
  {
   "cell_type": "code",
   "execution_count": 106,
   "metadata": {},
   "outputs": [
    {
     "data": {
      "image/png": "[encoded data removed]",
      "text/plain": [
       "<PIL.JpegImagePlugin.JpegImageFile image mode=RGB size=90x20 at 0x7F72A5DEF630>"
      ]
     },
     "execution_count": 106,
     "metadata": {},
     "output_type": "execute_result"
    }
   ],
   "source": [
    "Image.open('../patentCrawler/captcha.jpg')"
   ]
  },
  {
   "cell_type": "code",
   "execution_count": 107,
   "metadata": {},
   "outputs": [
    {
     "data": {
      "image/png": "[encoded data removed]",
      "text/plain": [
       "<PIL.Image.Image image mode=L size=90x20 at 0x7F72A5DEF240>"
      ]
     },
     "execution_count": 107,
     "metadata": {},
     "output_type": "execute_result"
    }
   ],
   "source": [
    "Image.fromarray(model.pre_process(Image.open('../patentCrawler/captcha.jpg')))"
   ]
  },
  {
   "cell_type": "code",
   "execution_count": 108,
   "metadata": {},
   "outputs": [
    {
     "data": {
      "text/plain": [
       "[<matplotlib.lines.Line2D at 0x7f72a54c54e0>]"
      ]
     },
     "execution_count": 108,
     "metadata": {},
     "output_type": "execute_result"
    },
    {
     "data": {
      "image/png": "[encoded data removed]",
      "text/plain": [
       "<matplotlib.figure.Figure at 0x7f72a5defb00>"
      ]
     },
     "metadata": {},
     "output_type": "display_data"
    }
   ],
   "source": [
    "plt.plot(-np.sum(model.pre_process(Image.open('../patentCrawler/captcha.jpg'))/255,axis=0))"
   ]
  },
  {
   "cell_type": "code",
   "execution_count": 109,
   "metadata": {},
   "outputs": [],
   "source": [
    "sample=model.pre_process(Image.open('../patentCrawler/captcha.jpg'))"
   ]
  },
  {
   "cell_type": "code",
   "execution_count": 110,
   "metadata": {},
   "outputs": [
    {
     "data": {
      "text/plain": [
       "[<matplotlib.lines.Line2D at 0x7f72a4cb1ac8>]"
      ]
     },
     "execution_count": 110,
     "metadata": {},
     "output_type": "execute_result"
    },
    {
     "data": {
      "image/png": "[encoded data removed]",
      "text/plain": [
       "<matplotlib.figure.Figure at 0x7f72a54e14e0>"
      ]
     },
     "metadata": {},
     "output_type": "display_data"
    }
   ],
   "source": [
    "plt.plot(-np.sum(sample/255,axis=0))"
   ]
  },
  {
   "cell_type": "code",
   "execution_count": 111,
   "metadata": {},
   "outputs": [
    {
     "data": {
      "image/png": "[encoded data removed]",
      "text/plain": [
       "<PIL.Image.Image image mode=L size=25x20 at 0x7F72A4C4EDD8>"
      ]
     },
     "execution_count": 111,
     "metadata": {},
     "output_type": "execute_result"
    }
   ],
   "source": [
    "Image.fromarray(sample[:,5:30])"
   ]
  },
  {
   "cell_type": "code",
   "execution_count": 112,
   "metadata": {},
   "outputs": [
    {
     "data": {
      "image/png": "[encoded data removed]",
      "text/plain": [
       "<PIL.Image.Image image mode=L size=25x20 at 0x7F72A4C4ECF8>"
      ]
     },
     "execution_count": 112,
     "metadata": {},
     "output_type": "execute_result"
    }
   ],
   "source": [
    "Image.fromarray(X_0[:,5:30])"
   ]
  },
  {
   "cell_type": "code",
   "execution_count": 13,
   "metadata": {},
   "outputs": [
    {
     "data": {
      "image/png": "[encoded data removed]",
      "text/plain": [
       "<PIL.Image.Image image mode=L size=90x20 at 0x7F726E94FF98>"
      ]
     },
     "execution_count": 13,
     "metadata": {},
     "output_type": "execute_result"
    }
   ],
   "source": [
    "Image.fromarray((X_0.flatten()/255.0).reshape((20,90))*255,mode='L')"
   ]
  },
  {
   "cell_type": "code",
   "execution_count": 14,
   "metadata": {},
   "outputs": [
    {
     "data": {
      "image/png": "[encoded data removed]",
      "text/plain": [
       "<PIL.Image.Image image mode=L size=90x20 at 0x7F726E8B1320>"
      ]
     },
     "execution_count": 14,
     "metadata": {},
     "output_type": "execute_result"
    }
   ],
   "source": [
    "Image.fromarray(np.array(X[199]*255,dtype=np.uint8).reshape((20,90)),mode='L')"
   ]
  },
  {
   "cell_type": "code",
   "execution_count": null,
   "metadata": {},
   "outputs": [],
   "source": [
    "model.create_validate_code(chars=)"
   ]
  },
  {
   "cell_type": "code",
   "execution_count": 65,
   "metadata": {},
   "outputs": [],
   "source": [
    "import numpy as np\n",
    "import tensorflow as tf\n",
    "import random\n",
    "from PIL import Image, ImageDraw, ImageFont, ImageFilter\n",
    "import os\n",
    "\n",
    "\n",
    "class CaptchaCracker:\n",
    "    def __init__(self, model_path='./model_checkpoint'):\n",
    "        if not os.path.exists(model_path):\n",
    "            os.mkdir(model_path)\n",
    "        self.model_file = model_path + '/captcha_model'\n",
    "        self.Y_DIM = 202\n",
    "        self.NUMBER_COUNT = 100\n",
    "        self.OP_COUNT = 2\n",
    "        self.IMG_HEIGHT = 20\n",
    "        self.IMG_WIDTH = 90\n",
    "        self.learning_rate= 0.001\n",
    "        self.target_acc=0.8\n",
    "     \n",
    "    \n",
    "    def build(self, w_alpha=0.01, b_alpha=0.1):\n",
    "        self.X = tf.placeholder(tf.float32, [None, self.IMG_HEIGHT * self.IMG_WIDTH])\n",
    "        self.Y = tf.placeholder(tf.float32, [None, self.Y_DIM])\n",
    "        self.keep_prob = tf.placeholder(tf.float32)\n",
    "        self.x_input = tf.reshape(self.X, shape=[-1, self.IMG_HEIGHT, self.IMG_WIDTH, 1])\n",
    "        # 3 conv layer\n",
    "        self.w_c1 = tf.Variable(w_alpha * tf.random_normal([5, 5, 1, 32]))\n",
    "        self.b_c1 = tf.Variable(b_alpha * tf.random_normal([32]))\n",
    "        self.conv1 = tf.nn.relu(tf.nn.bias_add(tf.nn.conv2d(self.x_input, self.w_c1, strides=[1, 1, 1, 1], padding='SAME'), self.b_c1))\n",
    "        self.conv1 = tf.nn.max_pool(self.conv1, ksize=[1, 2, 2, 1], strides=[1, 1, 1, 1], padding='SAME')\n",
    "        self.conv1 = tf.nn.dropout(self.conv1, self.keep_prob)\n",
    "        \n",
    "        self.w_c2 = tf.Variable(w_alpha * tf.random_normal([5, 5, 32, 64]))\n",
    "        self.b_c2 = tf.Variable(b_alpha * tf.random_normal([64]))\n",
    "        self.conv2 = tf.nn.relu(tf.nn.bias_add(tf.nn.conv2d(self.conv1, self.w_c2, strides=[1, 1, 1, 1], padding='SAME'), self.b_c2))\n",
    "        self.conv2 = tf.nn.max_pool(self.conv2, ksize=[1, 2, 2, 1], strides=[1, 1, 1, 1], padding='SAME')\n",
    "        self.conv2 = tf.nn.dropout(self.conv2, self.keep_prob)\n",
    "        \n",
    "        self.w_c3 = tf.Variable(w_alpha * tf.random_normal([5, 5, 64, 64]))\n",
    "        self.b_c3 = tf.Variable(b_alpha * tf.random_normal([64]))\n",
    "        self.conv3 = tf.nn.relu(tf.nn.bias_add(tf.nn.conv2d(self.conv2, self.w_c3, strides=[1, 1, 1, 1], padding='SAME'), self.b_c3))\n",
    "        self.conv3 = tf.nn.max_pool(self.conv3, ksize=[1, 2, 2, 1], strides=[1, 1, 1, 1], padding='SAME')\n",
    "        self.conv3 = tf.nn.dropout(self.conv3, self.keep_prob)\n",
    "        print(self.conv3.shape)\n",
    "        # Fully connected layer\n",
    "        self.w_d = tf.Variable(w_alpha * tf.random_normal([3 * 12 * 64, 1024]))\n",
    "        self.b_d = tf.Variable(b_alpha * tf.random_normal([1024]))\n",
    "        self.dense = tf.reshape(self.conv3, [-1, self.w_d.get_shape().as_list()[0]])\n",
    "        self.dense = tf.nn.relu(tf.add(tf.matmul(self.dense, self.w_d), self.b_d))\n",
    "        self.dense = tf.nn.dropout(self.dense, self.keep_prob)\n",
    "        \n",
    "        self.w_out = tf.Variable(w_alpha * tf.random_normal([1024, self.Y_DIM]))\n",
    "        self.b_out = tf.Variable(b_alpha * tf.random_normal([self.Y_DIM]))\n",
    "        self.output = tf.add(tf.matmul(self.dense, self.w_out), self.b_out)\n",
    "        self.loss = tf.reduce_mean(tf.nn.sigmoid_cross_entropy_with_logits(logits=self.output, labels=self.Y))\n",
    "        self.optimize = tf.train.AdamOptimizer(learning_rate=self.learning_rate).minimize(self.loss)\n",
    "        self.predict_e1 = tf.argmax(self.output[:, :self.NUMBER_COUNT], 1)\n",
    "        self.predict_e2 = tf.argmax(self.output[:, self.NUMBER_COUNT:self.NUMBER_COUNT * 2], 1)\n",
    "        self.predict_o = tf.argmax(self.output[:, self.NUMBER_COUNT * 2:], 1)\n",
    "        self.true_e1 = tf.argmax(self.Y[:, :self.NUMBER_COUNT], 1)\n",
    "        self.true_e2 = tf.argmax(self.Y[:, self.NUMBER_COUNT:self.NUMBER_COUNT * 2], 1)\n",
    "        self.true_o = tf.argmax(self.Y[:, self.NUMBER_COUNT * 2:], 1)\n",
    "        self.correct_e1 = tf.equal(self.predict_e1, self.true_e1)\n",
    "        self.correct_e2 = tf.equal(self.predict_e2, self.true_e2)\n",
    "        self.correct_o = tf.equal(self.predict_o, self.true_o)\n",
    "        self.accuracy_e1 = tf.reduce_mean(tf.cast(self.correct_e1, tf.float32))\n",
    "        self.accuracy_e2 = tf.reduce_mean(tf.cast(self.correct_e2, tf.float32))\n",
    "        self.accuracy_o = tf.reduce_mean(tf.cast(self.correct_o, tf.float32))\n",
    "        self.accuracy = (self.accuracy_e1 + self.accuracy_e2 + self.accuracy_o) / 3\n",
    "        self.saver = tf.train.Saver()\n",
    "    \n",
    "\n",
    "    def make_captcha_text(self, e1, e2, op):\n",
    "        number = list(map(lambda x: str(x), list(range(100))))\n",
    "        operator = ['+', '-']\n",
    "        captcha_text = [number[e1], ' ', operator[op], ' ', number[e2], '=', '?']\n",
    "        return ''.join(captcha_text), (e1, op, e2)\n",
    "\n",
    "    def create_specific_validate_code(self, strs, chars, size=(90, 20), mode=\"1\", font_size=18, font_type=\"arial.ttf\", draw_points=True, clear=80):\n",
    "        width, height = size\n",
    "        img = Image.new(mode, size)\n",
    "        draw = ImageDraw.Draw(img)\n",
    "        def create_points():\n",
    "            chance = min(100, max(0, int(clear)))\n",
    "            for w in range(width):\n",
    "                for h in range(height):\n",
    "                    tmp = random.randint(0, 100)\n",
    "                    if tmp > 100 - chance:\n",
    "                        draw.point((w, h), fill=1)\n",
    "    \n",
    "        def create_strs():\n",
    "            font = ImageFont.truetype(font_type, font_size)\n",
    "            font_width, font_height = font.getsize(strs)\n",
    "            draw.text(((width - font_width) / 4, (height - font_height) / 4),\n",
    "                      strs, font=font)\n",
    "    \n",
    "        if draw_points:\n",
    "            create_points()\n",
    "        create_strs()\n",
    "        return np.array(img.convert('L')), chars\n",
    "    \n",
    "    \n",
    "    def pre_process(self, image):\n",
    "        return np.array(image.filter(ImageFilter.SHARPEN).convert('1').filter(ImageFilter.DETAIL).convert('L'))\n",
    "\n",
    "    def char2vec(self, chars, number_count=100, op_count=2):\n",
    "        vec = np.zeros(number_count * 2 + op_count)\n",
    "        vec[chars[0]] = 1\n",
    "        vec[number_count + chars[2]] = 1\n",
    "        vec[number_count * 2 + chars[1]] = 1\n",
    "        return vec\n",
    "    \n",
    "    def vec2char(self, vec,number_count=100, op_count=2):\n",
    "        number=list(range(number_count))+list(range(number_count))\n",
    "        op=['+','-']\n",
    "        i1, i2, io = tuple(np.where(vec == 1)[0])\n",
    "        return (number[i1], number[i2 - number_count], op[io - number_count * 2])\n",
    "    \n",
    "\n",
    "    def get_big_batch(self, i):\n",
    "        batch_x = np.zeros([self.NUMBER_COUNT * self.OP_COUNT, self.IMG_HEIGHT * self.IMG_WIDTH])\n",
    "        batch_y = np.zeros([self.NUMBER_COUNT * self.OP_COUNT, self.Y_DIM])\n",
    "        count = 0\n",
    "        for j in range(self.NUMBER_COUNT):\n",
    "            for k in range(self.OP_COUNT):\n",
    "                strs, chars = self.make_captcha_text(i, j, k)\n",
    "                image, text = self.create_specific_validate_code(strs=strs, chars=chars)\n",
    "                batch_x[count, :] = image.flatten() / 255\n",
    "                batch_y[count, :] = self.char2vec(text)\n",
    "                count += 1\n",
    "        return batch_x, batch_y\n",
    "    \n",
    "    \n",
    "    def train(self):\n",
    "        with tf.Session() as sess:\n",
    "            sess.run(tf.global_variables_initializer())\n",
    "            step = 0\n",
    "            while True:\n",
    "                digit_accs = []\n",
    "                for i in range(self.NUMBER_COUNT):\n",
    "                    batch_x, batch_y = self.get_big_batch(i)\n",
    "                    _, acc, acc_e1, acc_e2, acc_o, loss_ = sess.run([self.optimize, self.accuracy, self.accuracy_e1, self.accuracy_e2, self.accuracy_o, self.loss], feed_dict={self.X: batch_x, self.Y: batch_y, self.keep_prob: 0.75})\n",
    "                    print('step: ', step, 'acc: ', acc, 'loss: ', loss_, 'acc_e1: ', acc_e1, 'acc_e2: ', acc_e2, 'acc_o: ', acc_o)\n",
    "                    digit_accs.append(acc)\n",
    "                    step += 1\n",
    "                if np.mean(digit_accs) > self.target_acc:\n",
    "                    self.saver.save(sess, self.model_file)\n",
    "                    break\n",
    "            step += 1\n",
    "    def predict(self,image):\n",
    "        with tf.Session() as sess:\n",
    "            self.saver.restore(sess,self.model_file)\n",
    "            x = np.expand_dims(image.flatten(), axis=0)\n",
    "            pe1, pe2, po = sess.run([self.predict_e1, self.predict_e2, self.predict_o], feed_dict={self.X: x, self.keep_prob: 1.})\n",
    "            return pe1,pe2,po\n",
    "\n",
    "# if __name__ == '__main__':\n",
    "#     model=CaptchaCracker(model_path='./model_checkpoint1')\n",
    "#     model.build()\n",
    "#     model.train()\n",
    "    # print(model.predict(model.pre_process(Image.open('captcha.jpg'))))\n",
    "    \n",
    "    \n"
   ]
  },
  {
   "cell_type": "code",
   "execution_count": 66,
   "metadata": {},
   "outputs": [],
   "source": [
    "model=CaptchaCracker()"
   ]
  },
  {
   "cell_type": "code",
   "execution_count": 67,
   "metadata": {},
   "outputs": [
    {
     "name": "stdout",
     "output_type": "stream",
     "text": [
      "(?, 20, 90, 64)\n"
     ]
    }
   ],
   "source": [
    "model.build()"
   ]
  },
  {
   "cell_type": "code",
   "execution_count": 38,
   "metadata": {},
   "outputs": [
    {
     "data": {
      "image/png": "[encoded data removed]",
      "text/plain": [
       "<PIL.Image.Image image mode=L size=90x20 at 0x7F1C7739DE48>"
      ]
     },
     "execution_count": 38,
     "metadata": {},
     "output_type": "execute_result"
    }
   ],
   "source": [
    "Image.fromarray(model.create_specific_validate_code(model.make_captcha_text(12,24,0)[0],model.make_captcha_text(12,24,0)[1])[0])"
   ]
  },
  {
   "cell_type": "code",
   "execution_count": 3,
   "metadata": {},
   "outputs": [],
   "source": [
    "from keras.models import Sequential\n",
    "from keras.layers import Conv2D,Dense,MaxPool2D,Dropout"
   ]
  },
  {
   "cell_type": "code",
   "execution_count": null,
   "metadata": {},
   "outputs": [],
   "source": [
    "model = Sequential()\n",
    "\n",
    "model.add(Conv2D(64, (5, 5), padding='same', input_shape=input_shape)) \n",
    "model.add(Activation('relu'))\n",
    "model.add(Conv2D(64, (5, 5), padding='valid'))\n",
    "model.add(Activation('relu'))\n",
    "model.add(MaxPooling2D(pool_size=(2, 2)))\n",
    "model.add(Dropout(0.2))\n",
    "model.add(Conv2D(128, (3, 3), padding='same')) \n",
    "model.add(Activation('relu'))\n",
    "model.add(Conv2D(128, (3, 3), padding='valid')) \n",
    "model.add(Activation('relu'))\n",
    "model.add(MaxPooling2D(pool_size=(2, 2)))\n",
    "model.add(Dropout(0.2))\n",
    "model.add(Conv2D(256, (3, 3), padding='same')) \n",
    "model.add(Activation('relu'))\n",
    "model.add(Conv2D(256, (3, 3), padding='valid')) \n",
    "model.add(Activation('relu'))\n",
    "model.add(MaxPooling2D(pool_size=(2, 2)))\n",
    "model.add(Dropout(0.2))\n",
    "model.add(Flatten())\n",
    "model.add(Dense(1024))\n",
    "model.add(Activation('relu'))\n",
    "model.add(Dropout(0.2))\n",
    "model.add(Dense(1024))\n",
    "model.add(Activation('relu'))\n",
    "model.add(Dense(num_classes))\n",
    "model.add(Activation('softmax'))\n",
    "#sgd = SGD(l2=0.0, lr=0.01, decay=1e-6, momentum=0.9, nesterov=True)\n",
    "model.compile(loss='categorical_crossentropy', optimizer='adam', metrics=['accuracy'])"
   ]
  }
 ],
 "metadata": {
  "kernelspec": {
   "display_name": "Python 3",
   "language": "python",
   "name": "python3"
  },
  "language_info": {
   "codemirror_mode": {
    "name": "ipython",
    "version": 3
   },
   "file_extension": ".py",
   "mimetype": "text/x-python",
   "name": "python",
   "nbconvert_exporter": "python",
   "pygments_lexer": "ipython3",
   "version": "3.5.2"
  },
  "toc": {
   "nav_menu": {},
   "number_sections": true,
   "sideBar": true,
   "skip_h1_title": false,
   "toc_cell": false,
   "toc_position": {},
   "toc_section_display": "block",
   "toc_window_display": false
  }
 },
 "nbformat": 4,
 "nbformat_minor": 2
}
