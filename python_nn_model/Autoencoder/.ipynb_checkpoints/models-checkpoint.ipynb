{
 "cells": [
  {
   "cell_type": "code",
   "execution_count": 1,
   "metadata": {},
   "outputs": [
    {
     "name": "stderr",
     "output_type": "stream",
     "text": [
      "/Library/Frameworks/Python.framework/Versions/3.6/lib/python3.6/site-packages/h5py/__init__.py:36: FutureWarning: Conversion of the second argument of issubdtype from `float` to `np.floating` is deprecated. In future, it will be treated as `np.float64 == np.dtype(float).type`.\n",
      "  from ._conv import register_converters as _register_converters\n"
     ]
    }
   ],
   "source": [
    "import numpy as np\n",
    "import tensorflow as tf\n",
    "import math\n",
    "from libs.activations import lrelu\n",
    "\n",
    "class AEModel(object):\n",
    "    def __init__(self,\n",
    "               input_shape=[None, 33600],\n",
    "               n_filters=[1, 16, 32, 64],\n",
    "               filter_sizes=[3, 3, 3, 3]):\n",
    "        tf.reset_default_graph()\n",
    "        # %%\n",
    "        # input to the network\n",
    "        self.x = tf.placeholder(tf.float32, input_shape, name='x')\n",
    "        self.mean = tf.Variable(tf.zeros([1,33600]), trainable = False, dtype=tf.float32)\n",
    "        x_submean = tf.subtract(self.x, self.mean)\n",
    "        \n",
    "        # %%\n",
    "        # ensure 2-d is converted to square tensor.\n",
    "        if len(x_submean.get_shape()) == 2:\n",
    "            x_submean = tf.reshape(x_submean, [-1, screen_height, screen_width, n_filters[0]])\n",
    "        else:\n",
    "            raise ValueError('Unsupported input dimensions')\n",
    "        current_input = x_submean\n",
    "\n",
    "        # %%\n",
    "        # Build the encoder\n",
    "        encoder = []\n",
    "        shapes = []\n",
    "        for layer_i, n_output in enumerate(n_filters[1:]):\n",
    "            n_input = current_input.get_shape().as_list()[3]\n",
    "            shapes.append(current_input.get_shape().as_list())\n",
    "            W = tf.Variable(\n",
    "                tf.random_uniform([\n",
    "                    filter_sizes[layer_i],\n",
    "                    filter_sizes[layer_i],\n",
    "                    n_input, n_output],\n",
    "                    -1.0 / math.sqrt(n_input),\n",
    "                    1.0 / math.sqrt(n_input)))\n",
    "            b = tf.Variable(tf.zeros([n_output]))\n",
    "            encoder.append(W)\n",
    "            output = lrelu(tf.add(tf.nn.conv2d(current_input, W, strides=[1, 2, 2, 1], padding='SAME'), b))\n",
    "            current_input = output\n",
    "        # %%\n",
    "        # store the latent representation\n",
    "        self.z = tf.identity(current_input, name = \"z\")\n",
    "        tf.summary.histogram(\"Hidden_hist\", self.z)\n",
    "        encoder.reverse()\n",
    "        shapes.reverse()\n",
    "\n",
    "        # %%\n",
    "        # Build the decoder using the same weights\n",
    "        for layer_i, shape in enumerate(shapes):\n",
    "            W = encoder[layer_i]\n",
    "            b = tf.Variable(tf.zeros([W.get_shape().as_list()[2]]))\n",
    "            output = lrelu(tf.add(\n",
    "                tf.nn.conv2d_transpose(\n",
    "                    current_input, W,\n",
    "                    tf.stack([tf.shape(x_submean)[0], shape[1], shape[2], shape[3]]),\n",
    "                    strides=[1, 2, 2, 1], padding='SAME'), b))\n",
    "            current_input = output\n",
    "\n",
    "        # %%\n",
    "        # now have the reconstruction through the network\n",
    "        y_tensor = current_input\n",
    "        self.y = tf.add( tf.reshape(y_tensor, [-1, 33600]), mean, name = \"y\")\n",
    "        # cost function measures pixel-wise difference\n",
    "        self.cost = tf.reduce_sum(tf.square(y_tensor - x_tensor), name = \"cost\")\n",
    "        tf.summary.scalar(\"Cost_scalar\", self.cost)\n",
    "        tf.summary.histogram(\"Cost_hist\", self.cost)\n",
    "\n",
    "        # %%\n",
    "        learning_rate = 0.01\n",
    "        self.optimizer = tf.train.AdamOptimizer(learning_rate, name = \"optimizer\").minimize(cost)\n",
    "        \n",
    "        self.merged = tf.summary.merge_all()"
   ]
  },
  {
   "cell_type": "code",
   "execution_count": null,
   "metadata": {},
   "outputs": [],
   "source": []
  }
 ],
 "metadata": {
  "kernelspec": {
   "display_name": "Python 3",
   "language": "python",
   "name": "python3"
  },
  "language_info": {
   "codemirror_mode": {
    "name": "ipython",
    "version": 3
   },
   "file_extension": ".py",
   "mimetype": "text/x-python",
   "name": "python",
   "nbconvert_exporter": "python",
   "pygments_lexer": "ipython3",
   "version": "3.6.4"
  }
 },
 "nbformat": 4,
 "nbformat_minor": 2
}
