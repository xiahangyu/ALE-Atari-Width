{
 "cells": [
  {
   "cell_type": "code",
   "execution_count": null,
   "metadata": {},
   "outputs": [],
   "source": [
    "import matplotlib.pyplot as plt\n",
    "import tensorflow as tf\n",
    "import numpy as np\n",
    "from AEModel import AEModel\n",
    "\n",
    "n_test_screens = 5\n",
    "screen_height = 210\n",
    "screen_width = 160\n",
    "test_screens = np.zeros((n_test_screens, screen_height * screen_width))\n",
    "\n",
    "\n",
    "def loadData(dir):\n",
    "    for i in range(n_test_screens):\n",
    "        path = dir + str(4000 + i + 1) + \".matrix\"\n",
    "        with open(path, \"r\") as f:\n",
    "            pixels = f.read().split(' ')[:-1]\n",
    "            pixels = list(map(int, pixels))\n",
    "            test_screens[i] = np.array(pixels)\n",
    "\n",
    "\n",
    "screen_dir = \"../screens/freeway/\"\n",
    "loadData(screen_dir)\n",
    "\n",
    "ae = AEModel()\n",
    "sess = tf.Session()\n",
    "sess.run(tf.global_variables_initializer())\n",
    "saver = tf.train.Saver()\n",
    "saver.restore(sess, '../ckpt/model')\n",
    "\n",
    "recon = sess.run(ae.y, feed_dict={ae.x: test_screens})\n",
    "\n",
    "\n",
    "def predict(screen):\n",
    "    screen = np.reshape(screen, [None,33600])\n",
    "    return sess.run(ae.z, feed_dict={ae.x: screen})\n",
    "\n",
    "\n",
    "fig, axs = plt.subplots(n_test_screens, 2, figsize=(210, 160))\n",
    "for example_i in range(n_test_screens):\n",
    "    axs[example_i][0].imshow(\n",
    "        np.reshape(test_screens[example_i], (210, 160)))\n",
    "    axs[example_i][1].imshow(\n",
    "        np.reshape(recon[example_i], (210, 160)))\n",
    "plt.show()\n",
    "\n",
    "sess.close()\n"
   ]
  }
 ],
 "metadata": {
  "kernelspec": {
   "display_name": "Python 3",
   "language": "python",
   "name": "python3"
  },
  "language_info": {
   "codemirror_mode": {
    "name": "ipython",
    "version": 3
   },
   "file_extension": ".py",
   "mimetype": "text/x-python",
   "name": "python",
   "nbconvert_exporter": "python",
   "pygments_lexer": "ipython3",
   "version": "3.6.4"
  }
 },
 "nbformat": 4,
 "nbformat_minor": 2
}
